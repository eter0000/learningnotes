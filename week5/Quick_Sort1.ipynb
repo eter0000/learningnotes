{
 "cells": [
  {
   "cell_type": "markdown",
   "metadata": {},
   "source": [
    "# 思路 :\n",
    " * 先找一個值當作pivot\n",
    " * 再將每個數值和pivot做比較\n",
    " * 分別放入>、=、<三個list\n",
    " * 再重複執行quicksort完成"
   ]
  },
  {
   "cell_type": "code",
   "execution_count": 6,
   "metadata": {},
   "outputs": [],
   "source": [
    "def quicksort(data):\n",
    "    a=[]\n",
    "    b=[]\n",
    "    c=[]\n",
    "    if len(data)<2:  #若數列少於兩個值，則直接回傳數列\n",
    "        return data\n",
    "    else:  \n",
    "         for i in data:\n",
    "            pivot=data[-1]  #這邊以最後一個值當作pivot\n",
    "            if i < pivot:\n",
    "                a.append(i)\n",
    "            elif i == pivot:\n",
    "                b.append(i)\n",
    "            else:\n",
    "                c.append(i)\n",
    "            #利用迴圈重複執行list a 和 list b\n",
    "    return quicksort(a)+b+quicksort(c)"
   ]
  },
  {
   "cell_type": "code",
   "execution_count": 2,
   "metadata": {},
   "outputs": [],
   "source": [
    "data=[1,9,4,6,8,2,7,12,7,4,9,2,5,4,8,1]"
   ]
  },
  {
   "cell_type": "code",
   "execution_count": 7,
   "metadata": {},
   "outputs": [
    {
     "data": {
      "text/plain": [
       "[1, 1, 2, 2, 4, 4, 4, 5, 6, 7, 7, 8, 8, 9, 9, 12]"
      ]
     },
     "execution_count": 7,
     "metadata": {},
     "output_type": "execute_result"
    }
   ],
   "source": [
    "quicksort(data)"
   ]
  },
  {
   "cell_type": "code",
   "execution_count": null,
   "metadata": {},
   "outputs": [],
   "source": []
  }
 ],
 "metadata": {
  "kernelspec": {
   "display_name": "Python 3",
   "language": "python",
   "name": "python3"
  },
  "language_info": {
   "codemirror_mode": {
    "name": "ipython",
    "version": 3
   },
   "file_extension": ".py",
   "mimetype": "text/x-python",
   "name": "python",
   "nbconvert_exporter": "python",
   "pygments_lexer": "ipython3",
   "version": "3.7.1"
  }
 },
 "nbformat": 4,
 "nbformat_minor": 2
}
