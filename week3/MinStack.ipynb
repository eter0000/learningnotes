{
 "cells": [
  {
   "cell_type": "code",
   "execution_count": 1,
   "metadata": {},
   "outputs": [],
   "source": [
    "class MinStack:\n",
    "\n",
    "    def __init__(self):\n",
    "        \"\"\"\n",
    "        initialize your data structure here.\n",
    "        \"\"\"\n",
    "        self.stacklist = []\n",
    "        self.len = 0\n",
    "        \n",
    "\n",
    "    def push(self, x: int) -> None:\n",
    "        self.stacklist.append(x)\n",
    "        self.len+=1\n",
    "\n",
    "    def pop(self) -> None:\n",
    "        if self.len == 0:\n",
    "            pass\n",
    "        else:\n",
    "            self.stacklist.pop(self.len-1)\n",
    "            self.len-=1\n",
    "\n",
    "    def top(self) -> int:\n",
    "        return self.stacklist[self.len-1]\n",
    "\n",
    "    def getMin(self) -> int:\n",
    "        return min(self.stacklist)"
   ]
  },
  {
   "cell_type": "code",
   "execution_count": 2,
   "metadata": {},
   "outputs": [],
   "source": [
    "q=MinStack()\n",
    "q.push(12)\n",
    "q.push(2)\n",
    "q.push(7)\n",
    "q.push(4)\n",
    "q.push(20)\n",
    "q.push(0)"
   ]
  },
  {
   "cell_type": "code",
   "execution_count": 4,
   "metadata": {},
   "outputs": [
    {
     "name": "stdout",
     "output_type": "stream",
     "text": [
      "0\n",
      "20\n",
      "2\n"
     ]
    }
   ],
   "source": [
    "print(q.top())\n",
    "q.pop()\n",
    "print(q.top())\n",
    "print(q.getMin())"
   ]
  },
  {
   "cell_type": "code",
   "execution_count": null,
   "metadata": {},
   "outputs": [],
   "source": []
  }
 ],
 "metadata": {
  "kernelspec": {
   "display_name": "Python 3",
   "language": "python",
   "name": "python3"
  },
  "language_info": {
   "codemirror_mode": {
    "name": "ipython",
    "version": 3
   },
   "file_extension": ".py",
   "mimetype": "text/x-python",
   "name": "python",
   "nbconvert_exporter": "python",
   "pygments_lexer": "ipython3",
   "version": "3.7.1"
  }
 },
 "nbformat": 4,
 "nbformat_minor": 2
}
